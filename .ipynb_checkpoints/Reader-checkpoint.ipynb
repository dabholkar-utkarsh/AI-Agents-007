{
 "cells": [
  {
   "cell_type": "code",
   "execution_count": 6,
   "metadata": {},
   "outputs": [
    {
     "name": "stdout",
     "output_type": "stream",
     "text": [
      "Defaulting to user installation because normal site-packages is not writeable\n",
      "\u001b[31mERROR: Ignored the following versions that require a different python version: 0.10.0 Requires-Python >=3.10,<4.0; 0.11.0 Requires-Python >=3.10,<4.0; 0.11.1 Requires-Python >=3.10,<4.0; 0.11.2 Requires-Python >=3.10,<4.0; 0.14.0 Requires-Python >=3.10,<=3.13; 0.14.0rc0 Requires-Python >=3.10,<3.12; 0.14.0rc1 Requires-Python >=3.10,<=3.13; 0.14.1 Requires-Python >=3.10,<=3.13; 0.14.3 Requires-Python >=3.10,<=3.13; 0.14.4 Requires-Python >=3.10,<=3.13; 0.16.0 Requires-Python >=3.10,<=3.13; 0.16.1 Requires-Python >=3.10,<=3.13; 0.16.2 Requires-Python >=3.10,<=3.13; 0.16.3 Requires-Python >=3.10,<=3.13; 0.17.0 Requires-Python >=3.10,<=3.13; 0.17.0rc0 Requires-Python >=3.10,<=3.13; 0.17.0rc1 Requires-Python >=3.10,<=3.13; 0.17.0rc2 Requires-Python >=3.10,<=3.13; 0.19.0 Requires-Python >=3.10,<=3.13; 0.22.0 Requires-Python >=3.10,<=3.13; 0.22.2 Requires-Python >=3.10,<=3.13; 0.22.3 Requires-Python >=3.10,<=3.13; 0.22.4 Requires-Python >=3.10,<=3.13; 0.22.5 Requires-Python >=3.10,<=3.13; 0.27.0 Requires-Python <=3.13,>=3.10; 0.27.0rc0 Requires-Python <=3.13,>=3.10; 0.27.0rc1 Requires-Python <=3.13,>=3.10; 0.27.0rc2 Requires-Python <=3.13,>=3.10; 0.27.0rc3 Requires-Python <=3.13,>=3.10; 0.27.1 Requires-Python <=3.13,>=3.10; 0.27.2 Requires-Python <=3.13,>=3.10; 0.28.0 Requires-Python <=3.13,>=3.10; 0.28.1 Requires-Python <=3.13,>=3.10; 0.28.2 Requires-Python <=3.13,>=3.10; 0.28.3 Requires-Python <=3.13,>=3.10; 0.28.4 Requires-Python <=3.13,>=3.10; 0.28.5 Requires-Python <=3.13,>=3.10; 0.28.6 Requires-Python <=3.13,>=3.10; 0.28.7 Requires-Python <=3.13,>=3.10; 0.28.8 Requires-Python <=3.13,>=3.10; 0.28.9rc1 Requires-Python <=3.13,>=3.10; 0.28.9rc2 Requires-Python <=3.13,>=3.10; 0.30.0 Requires-Python <=3.13,>=3.10; 0.30.0rc1 Requires-Python <=3.13,>=3.10; 0.30.0rc2 Requires-Python <=3.13,>=3.10; 0.30.0rc3 Requires-Python <=3.13,>=3.10; 0.30.0rc4 Requires-Python <=3.13,>=3.10; 0.30.0rc5 Requires-Python <=3.13,>=3.10; 0.30.0rc6 Requires-Python <=3.13,>=3.10; 0.30.0rc7 Requires-Python <=3.13,>=3.10; 0.30.10 Requires-Python <=3.13,>=3.10; 0.30.11 Requires-Python <=3.13,>=3.10; 0.30.4 Requires-Python <=3.13,>=3.10; 0.30.5 Requires-Python <=3.13,>=3.10; 0.30.8 Requires-Python <=3.13,>=3.10; 0.32.0 Requires-Python <=3.13,>=3.10; 0.32.1 Requires-Python <=3.13,>=3.10; 0.32.2 Requires-Python <=3.13,>=3.10; 0.35.0 Requires-Python <=3.13,>=3.10; 0.35.3 Requires-Python <=3.13,>=3.10; 0.35.4 Requires-Python <=3.13,>=3.10; 0.35.5 Requires-Python <=3.13,>=3.10; 0.35.6 Requires-Python <=3.13,>=3.10; 0.35.7 Requires-Python <=3.13,>=3.10; 0.35.8 Requires-Python <=3.13,>=3.10; 0.36.0 Requires-Python <=3.13,>=3.10; 0.36.1 Requires-Python <=3.13,>=3.10; 0.41.0 Requires-Python <=3.13,>=3.10; 0.41.1 Requires-Python <=3.13,>=3.10; 0.5.2 Requires-Python >=3.10,<4.0; 0.5.3 Requires-Python >=3.10,<4.0; 0.5.5 Requires-Python >=3.10,<4.0; 0.51.0 Requires-Python <=3.13,>=3.10; 0.51.1 Requires-Python <=3.13,>=3.10; 0.55.0 Requires-Python <=3.13,>=3.10; 0.55.1 Requires-Python <=3.13,>=3.10; 0.55.2 Requires-Python <=3.13,>=3.10; 0.60.0 Requires-Python <=3.13,>=3.10; 0.61.0 Requires-Python <=3.13,>=3.10; 0.63.0 Requires-Python <=3.13,>=3.10; 0.63.1 Requires-Python <=3.13,>=3.10; 0.63.2 Requires-Python <=3.13,>=3.10; 0.63.5 Requires-Python <=3.13,>=3.10; 0.63.6 Requires-Python <=3.13,>=3.10; 0.64.0 Requires-Python <=3.13,>=3.10; 0.65.0 Requires-Python <=3.13,>=3.10; 0.65.1 Requires-Python <=3.13,>=3.10; 0.65.2 Requires-Python <=3.13,>=3.10; 0.66.0 Requires-Python <=3.13,>=3.10; 0.67.0 Requires-Python <=3.13,>=3.10; 0.67.1 Requires-Python <=3.13,>=3.10; 0.70.0 Requires-Python <=3.13,>=3.10; 0.70.1 Requires-Python <=3.13,>=3.10; 0.74.0 Requires-Python <=3.13,>=3.10; 0.74.1 Requires-Python <=3.13,>=3.10; 0.74.2 Requires-Python <=3.13,>=3.10; 0.75.0 Requires-Python <=3.13,>=3.10; 0.75.1 Requires-Python <=3.13,>=3.10; 0.76.0 Requires-Python <=3.13,>=3.10; 0.76.1 Requires-Python <=3.13,>=3.10; 0.76.2 Requires-Python <=3.13,>=3.10; 0.76.9 Requires-Python <=3.13,>=3.10; 0.79.0 Requires-Python <=3.13,>=3.10; 0.79.1 Requires-Python <=3.13,>=3.10; 0.79.2 Requires-Python <=3.13,>=3.10; 0.79.3 Requires-Python <=3.13,>=3.10; 0.79.4 Requires-Python <=3.13,>=3.10; 0.80.0 Requires-Python <=3.13,>=3.10\u001b[0m\u001b[31m\n",
      "\u001b[0m\u001b[31mERROR: Could not find a version that satisfies the requirement crewai==0.28.8 (from versions: 0.1.0, 0.1.1, 0.1.2, 0.1.3, 0.1.5, 0.1.6, 0.1.7, 0.1.14, 0.1.15, 0.1.16, 0.1.17, 0.1.23, 0.1.24, 0.1.32, 0.5.0)\u001b[0m\u001b[31m\n",
      "\u001b[0m\u001b[31mERROR: No matching distribution found for crewai==0.28.8\u001b[0m\u001b[31m\n",
      "\u001b[0m"
     ]
    }
   ],
   "source": [
    "!pip3 install crewai==0.28.8 "
   ]
  },
  {
   "cell_type": "code",
   "execution_count": 3,
   "metadata": {},
   "outputs": [
    {
     "name": "stdout",
     "output_type": "stream",
     "text": [
      "Python 3.9.6\r\n"
     ]
    }
   ],
   "source": [
    "!python3 --version"
   ]
  },
  {
   "cell_type": "code",
   "execution_count": 5,
   "metadata": {},
   "outputs": [
    {
     "name": "stdout",
     "output_type": "stream",
     "text": [
      "Defaulting to user installation because normal site-packages is not writeable\n",
      "Requirement already satisfied: pip in /Users/utkarshdabholkar/Library/Python/3.9/lib/python/site-packages (23.2.1)\n",
      "Collecting pip\n",
      "  Obtaining dependency information for pip from https://files.pythonhosted.org/packages/ef/7d/500c9ad20238fcfcb4cb9243eede163594d7020ce87bd9610c9e02771876/pip-24.3.1-py3-none-any.whl.metadata\n",
      "  Downloading pip-24.3.1-py3-none-any.whl.metadata (3.7 kB)\n",
      "Downloading pip-24.3.1-py3-none-any.whl (1.8 MB)\n",
      "\u001b[2K   \u001b[90m━━━━━━━━━━━━━━━━━━━━━━━━━━━━━━━━━━━━━━━━\u001b[0m \u001b[32m1.8/1.8 MB\u001b[0m \u001b[31m9.6 MB/s\u001b[0m eta \u001b[36m0:00:00\u001b[0ma \u001b[36m0:00:01\u001b[0m\n",
      "\u001b[?25hInstalling collected packages: pip\n",
      "  Attempting uninstall: pip\n",
      "    Found existing installation: pip 23.2.1\n",
      "    Uninstalling pip-23.2.1:\n",
      "      Successfully uninstalled pip-23.2.1\n",
      "\u001b[33m  WARNING: The scripts pip, pip3 and pip3.9 are installed in '/Users/utkarshdabholkar/Library/Python/3.9/bin' which is not on PATH.\n",
      "  Consider adding this directory to PATH or, if you prefer to suppress this warning, use --no-warn-script-location.\u001b[0m\u001b[33m\n",
      "\u001b[0mSuccessfully installed pip-24.3.1\n"
     ]
    }
   ],
   "source": [
    "!python3 -m pip install --upgrade pip"
   ]
  },
  {
   "cell_type": "code",
   "execution_count": null,
   "metadata": {},
   "outputs": [],
   "source": []
  }
 ],
 "metadata": {
  "kernelspec": {
   "display_name": "Python 3 (ipykernel)",
   "language": "python",
   "name": "python3"
  },
  "language_info": {
   "codemirror_mode": {
    "name": "ipython",
    "version": 3
   },
   "file_extension": ".py",
   "mimetype": "text/x-python",
   "name": "python",
   "nbconvert_exporter": "python",
   "pygments_lexer": "ipython3",
   "version": "3.9.6"
  }
 },
 "nbformat": 4,
 "nbformat_minor": 2
}
